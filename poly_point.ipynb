{
 "cells": [
  {
   "cell_type": "code",
   "execution_count": 9,
   "id": "af756739",
   "metadata": {},
   "outputs": [],
   "source": [
    "import cv2\n",
    "import numpy as np"
   ]
  },
  {
   "cell_type": "code",
   "execution_count": 10,
   "id": "1a8f5500",
   "metadata": {},
   "outputs": [],
   "source": [
    "# Read image\n",
    "image = cv2.imread('./my_images/image1.jpg')"
   ]
  },
  {
   "cell_type": "code",
   "execution_count": 11,
   "id": "b1ec0d92",
   "metadata": {},
   "outputs": [],
   "source": [
    "# Convert to HSV\n",
    "hsv = cv2.cvtColor(image, cv2.COLOR_BGR2HSV)"
   ]
  },
  {
   "cell_type": "code",
   "execution_count": 12,
   "id": "4aa7a017",
   "metadata": {},
   "outputs": [],
   "source": [
    "#cv2.imshow('hsv', hsv)\n",
    "\n",
    "#cv2.waitKey(0)\n",
    "#cv2.destroyAllWindows()"
   ]
  },
  {
   "cell_type": "code",
   "execution_count": 13,
   "id": "b5555257",
   "metadata": {},
   "outputs": [],
   "source": [
    "# Define lower and uppper limits of what we call \"white-ish\"\n",
    "sensitivity = 19\n",
    "lower_white = np.array([0, 0, 255 - sensitivity])\n",
    "upper_white = np.array([255, sensitivity, 255])"
   ]
  },
  {
   "cell_type": "code",
   "execution_count": 18,
   "id": "548527e0",
   "metadata": {},
   "outputs": [],
   "source": [
    "# Create mask to only select white\n",
    "mask = cv2.inRange(hsv, lower_white, upper_white)"
   ]
  },
  {
   "cell_type": "code",
   "execution_count": 16,
   "id": "aa10ffd8",
   "metadata": {},
   "outputs": [],
   "source": [
    "#cv2.imshow('mask', mask)\n",
    "\n",
    "#cv2.waitKey(0)\n",
    "#cv2.destroyAllWindows()"
   ]
  },
  {
   "cell_type": "code",
   "execution_count": 6,
   "id": "b6d203d7",
   "metadata": {},
   "outputs": [
    {
     "data": {
      "text/plain": [
       "array([[0, 0, 0, ..., 0, 0, 0],\n",
       "       [0, 0, 0, ..., 0, 0, 0],\n",
       "       [0, 0, 0, ..., 0, 0, 0],\n",
       "       ...,\n",
       "       [0, 0, 0, ..., 0, 0, 0],\n",
       "       [0, 0, 0, ..., 0, 0, 0],\n",
       "       [0, 0, 0, ..., 0, 0, 0]], dtype=uint8)"
      ]
     },
     "execution_count": 6,
     "metadata": {},
     "output_type": "execute_result"
    }
   ],
   "source": [
    "# Draw new rectangular mask on old mask that is black inside the rectangle and white outside the rectangle\n",
    "x,y,w,h = 33,100,430,550\n",
    "mask2 = mask.copy()\n",
    "cv2.rectangle(mask2, (x,y), (x+w,y+h), 0, -1)"
   ]
  },
  {
   "cell_type": "code",
   "execution_count": 7,
   "id": "a4d9e922",
   "metadata": {},
   "outputs": [],
   "source": [
    "# Change image to grey where we found white for combined mask\n",
    "result = image.copy()\n",
    "result[mask2 > 0] = (170, 170, 170)"
   ]
  },
  {
   "cell_type": "code",
   "execution_count": 8,
   "id": "7bcd9e6b",
   "metadata": {},
   "outputs": [],
   "source": [
    "# save results\n",
    "cv2.imwrite('4animals_mask.jpg', mask)\n",
    "cv2.imwrite('4animals_mask2.jpg', mask2)\n",
    "cv2.imwrite('4animals_result.jpg', result)\n",
    "\n",
    "cv2.imshow('mask', mask)\n",
    "cv2.imshow('mask2', mask2 )\n",
    "cv2.imshow('result', result)\n",
    "cv2.waitKey(0)\n",
    "cv2.destroyAllWindows()"
   ]
  },
  {
   "cell_type": "code",
   "execution_count": null,
   "id": "8d5f0255",
   "metadata": {},
   "outputs": [],
   "source": []
  }
 ],
 "metadata": {
  "kernelspec": {
   "display_name": "Python 3",
   "language": "python",
   "name": "python3"
  },
  "language_info": {
   "codemirror_mode": {
    "name": "ipython",
    "version": 3
   },
   "file_extension": ".py",
   "mimetype": "text/x-python",
   "name": "python",
   "nbconvert_exporter": "python",
   "pygments_lexer": "ipython3",
   "version": "3.6.13"
  }
 },
 "nbformat": 4,
 "nbformat_minor": 5
}
