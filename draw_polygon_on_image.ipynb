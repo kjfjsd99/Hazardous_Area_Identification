{
 "cells": [
  {
   "cell_type": "code",
   "execution_count": 1,
   "id": "ae1cf48c",
   "metadata": {},
   "outputs": [],
   "source": [
    "import cv2\n",
    "import numpy as np"
   ]
  },
  {
   "cell_type": "code",
   "execution_count": 2,
   "id": "f0947c29",
   "metadata": {},
   "outputs": [],
   "source": [
    "img = cv2.imread(\"./my_images/image1.jpg\")\n",
    "img = cv2.resize(img, (1800, 1000), interpolation=cv2.INTER_AREA)\n",
    "overlay = img.copy()\n",
    "\n",
    "points1 = np.array([[1715, 200], [1750, 210], [1790, 220], [1790, 995], [400, 995], [1350, 550]])\n",
    "light_green = (144, 238, 144)\n",
    "\n",
    "points2 = np.array([[50, 50], [1400, 30], [1500, 380], [30, 800]])\n",
    "light_red = (0, 0, 255)\n",
    "\n",
    "cv2.fillPoly(img, [points1], light_green)\n",
    "cv2.fillPoly(img, [points2], light_red)\n",
    "\n",
    "alpha = 0.4  # Transparency factor.\n",
    "\n",
    "# Following line overlays transparent rectangle over the image\n",
    "img_new = cv2.addWeighted(overlay, alpha, img, 1 - alpha, 0)\n",
    "cv2.imwrite('colored_region.jpg', img_new)\n",
    "\n",
    "cv2.imshow('my image',img_new)\n",
    "\n",
    "cv2.waitKey(0)\n",
    "cv2.destroyAllWindows()"
   ]
  },
  {
   "cell_type": "code",
   "execution_count": null,
   "id": "4022ca46",
   "metadata": {},
   "outputs": [],
   "source": []
  }
 ],
 "metadata": {
  "kernelspec": {
   "display_name": "Python 3",
   "language": "python",
   "name": "python3"
  },
  "language_info": {
   "codemirror_mode": {
    "name": "ipython",
    "version": 3
   },
   "file_extension": ".py",
   "mimetype": "text/x-python",
   "name": "python",
   "nbconvert_exporter": "python",
   "pygments_lexer": "ipython3",
   "version": "3.6.13"
  }
 },
 "nbformat": 4,
 "nbformat_minor": 5
}
