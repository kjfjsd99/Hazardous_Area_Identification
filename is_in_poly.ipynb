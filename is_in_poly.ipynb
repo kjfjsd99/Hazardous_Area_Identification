{
 "cells": [
  {
   "cell_type": "code",
   "execution_count": 1,
   "metadata": {},
   "outputs": [],
   "source": [
    "import cv2\n",
    "import numpy as np"
   ]
  },
  {
   "cell_type": "code",
   "execution_count": 2,
   "metadata": {},
   "outputs": [],
   "source": [
    "img = cv2.imread(\"./my_images/image1.jpg\")\n",
    "img = cv2.resize(img, (1800, 1000), interpolation=cv2.INTER_AREA)\n",
    "overlay = img.copy()"
   ]
  },
  {
   "cell_type": "code",
   "execution_count": 3,
   "metadata": {},
   "outputs": [],
   "source": [
    "#cv2.imshow('my image',img)\n",
    "\n",
    "#cv2.waitKey(0)\n",
    "#cv2.destroyAllWindows()"
   ]
  },
  {
   "cell_type": "code",
   "execution_count": 4,
   "metadata": {},
   "outputs": [],
   "source": [
    "def is_in_poly(p, poly):\n",
    "    \"\"\"\n",
    "\n",
    "    :param p: [x, y]\n",
    "    :param poly: [[], [], [], [], ...]\n",
    "    :return:\n",
    "    \"\"\"\n",
    "    px, py = p\n",
    "    is_in = False\n",
    "    for i, corner in enumerate(poly):\n",
    "        next_i = i + 1 if i + 1 < len(poly) else 0\n",
    "        x1, y1 = corner\n",
    "        x2, y2 = poly[next_i]\n",
    "        if (x1 == px and y1 == py) or (x2 == px and y2 == py):  # if point is on vertex\n",
    "            is_in = True\n",
    "            break\n",
    "        if min(y1, y2) < py <= max(y1, y2):  # find horizontal edges of polygon\n",
    "            x = x1 + (py - y1) * (x2 - x1) / (y2 - y1)\n",
    "            if x == px:  # if point is on edge\n",
    "                is_in = True\n",
    "                break\n",
    "            elif x > px:  # if point is on left-side of line\n",
    "                is_in = not is_in\n",
    "    return is_in"
   ]
  },
  {
   "cell_type": "code",
   "execution_count": 7,
   "metadata": {},
   "outputs": [],
   "source": [
    "person = [30, 5]\n",
    "\n",
    "poly = [[10, 5], [50, 5], [27, 75]]\n",
    "\n",
    "#points2 = np.array([[50, 50], [1400, 30], [1500, 380], [30, 800]])\n",
    "\n",
    "#light_red = (0, 0, 255)\n",
    "#light_green = (144, 238, 144)\n",
    "\n",
    "#if is_in_poly(person, poly) == True:\n",
    "    #points2 = np.array([[50, 50], [1400, 30], [1500, 380], [30, 800]])\n",
    "    #light_red = (0, 0, 255)\n",
    "#    cv2.fillPoly(img, [points2], light_red)\n",
    "    \n",
    "#    alpha = 0.4  # Transparency factor.\n",
    "\n",
    "    # Following line overlays transparent rectangle over the image\n",
    "#    img_new = cv2.addWeighted(overlay, alpha, img, 1 - alpha, 0)\n",
    "#    cv2.imwrite('colored_region_1.jpg', img_new)\n",
    "\n",
    "#else:\n",
    "#    cv2.fillPoly(img, [points2], light_green)\n",
    "    \n",
    "#    alpha = 0.4  # Transparency factor.\n",
    "\n",
    "    # Following line overlays transparent rectangle over the image\n",
    "#    img_new = cv2.addWeighted(overlay, alpha, img, 1 - alpha, 0)\n",
    "#    cv2.imwrite('colored_region_2.jpg', img_new)\n"
   ]
  },
  {
   "cell_type": "code",
   "execution_count": 8,
   "metadata": {},
   "outputs": [
    {
     "name": "stdout",
     "output_type": "stream",
     "text": [
      "False\n"
     ]
    }
   ],
   "source": [
    "print(is_in_poly(person, poly))"
   ]
  },
  {
   "cell_type": "code",
   "execution_count": null,
   "metadata": {},
   "outputs": [],
   "source": []
  }
 ],
 "metadata": {
  "kernelspec": {
   "display_name": "Python 3",
   "language": "python",
   "name": "python3"
  },
  "language_info": {
   "codemirror_mode": {
    "name": "ipython",
    "version": 3
   },
   "file_extension": ".py",
   "mimetype": "text/x-python",
   "name": "python",
   "nbconvert_exporter": "python",
   "pygments_lexer": "ipython3",
   "version": "3.8.5"
  }
 },
 "nbformat": 4,
 "nbformat_minor": 5
}
