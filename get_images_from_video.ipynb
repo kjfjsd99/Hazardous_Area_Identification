{
 "cells": [
  {
   "cell_type": "code",
   "execution_count": 1,
   "id": "21f179ae",
   "metadata": {},
   "outputs": [],
   "source": [
    "import cv2\n",
    "import os"
   ]
  },
  {
   "cell_type": "code",
   "execution_count": 2,
   "id": "6b71e547",
   "metadata": {},
   "outputs": [],
   "source": [
    "#output_dir = './output/'\n",
    "output_dir = './my_images/'\n",
    "if not os.path.exists(output_dir):\n",
    "    os.mkdir(output_dir)"
   ]
  },
  {
   "cell_type": "code",
   "execution_count": 3,
   "id": "3eed1a45",
   "metadata": {},
   "outputs": [],
   "source": [
    "vidcap = cv2.VideoCapture('video_20210909131846341.mp4')\n",
    "def getFrame(sec):\n",
    "    vidcap.set(cv2.CAP_PROP_POS_MSEC,sec*1000)\n",
    "    hasFrames,image = vidcap.read()\n",
    "    if hasFrames:\n",
    "        cv2.imwrite(os.path.join(output_dir, \"image\"+str(count)+\".jpg\"), image)     # save frame as JPG file\n",
    "    return hasFrames"
   ]
  },
  {
   "cell_type": "code",
   "execution_count": 4,
   "id": "b6604110",
   "metadata": {},
   "outputs": [
    {
     "name": "stdout",
     "output_type": "stream",
     "text": [
      "True\n"
     ]
    }
   ],
   "source": [
    "sec = 0\n",
    "frameRate = 1 #//it will capture image in each 1 second\n",
    "count=1\n",
    "success = getFrame(sec)\n",
    "print(success)"
   ]
  },
  {
   "cell_type": "code",
   "execution_count": 5,
   "id": "014bf3bf",
   "metadata": {},
   "outputs": [],
   "source": [
    "while success:\n",
    "    count = count + 1\n",
    "    sec = sec + frameRate\n",
    "    sec = round(sec, 2)\n",
    "    success = getFrame(sec)"
   ]
  },
  {
   "cell_type": "code",
   "execution_count": null,
   "id": "6da23459",
   "metadata": {},
   "outputs": [],
   "source": []
  }
 ],
 "metadata": {
  "kernelspec": {
   "display_name": "Python 3",
   "language": "python",
   "name": "python3"
  },
  "language_info": {
   "codemirror_mode": {
    "name": "ipython",
    "version": 3
   },
   "file_extension": ".py",
   "mimetype": "text/x-python",
   "name": "python",
   "nbconvert_exporter": "python",
   "pygments_lexer": "ipython3",
   "version": "3.6.13"
  }
 },
 "nbformat": 4,
 "nbformat_minor": 5
}
